{
 "cells": [
  {
   "cell_type": "markdown",
   "metadata": {},
   "source": [
    "# Градиентный бустинг своими руками\n",
    "\n",
    "**Внимание:** в тексте задания произошли изменения - поменялось число деревьев (теперь 50), правило изменения величины шага в задании 3 и добавился параметр `random_state` у решающего дерева. Правильные ответы не поменялись, но теперь их проще получить. Также исправлена опечатка в функции `gbm_predict`.\n",
    "\n",
    "В этом задании будет использоваться датасет `boston` из `sklearn.datasets`. Оставьте последние 25% объектов для контроля качества, разделив `X` и `y` на `X_train`, `y_train` и `X_test`, `y_test`.\n",
    "\n",
    "Целью задания будет реализовать простой вариант градиентного бустинга над регрессионными деревьями для случая квадратичной функции потерь."
   ]
  },
  {
   "cell_type": "code",
   "execution_count": 2,
   "metadata": {},
   "outputs": [
    {
     "name": "stderr",
     "output_type": "stream",
     "text": [
      "/Users/StasDon/anaconda/lib/python3.6/site-packages/matplotlib/__init__.py:1120: UserWarning: Bad val \"TkAgg or echo backend : Agg\" on line #1\n",
      "\t\"backend : TkAgg or echo backend : Agg\n",
      "\"\n",
      "\tin file \"/Users/StasDon/.matplotlib/matplotlibrc\"\n",
      "\tKey backend: Unrecognized backend string \"tkagg or echo backend : agg\": valid strings are ['GTK', 'GTKAgg', 'GTKCairo', 'MacOSX', 'Qt4Agg', 'Qt5Agg', 'TkAgg', 'WX', 'WXAgg', 'GTK3Cairo', 'GTK3Agg', 'WebAgg', 'nbAgg', 'agg', 'cairo', 'gdk', 'pdf', 'pgf', 'ps', 'svg', 'template']\n",
      "  (val, error_details, msg))\n"
     ]
    }
   ],
   "source": [
    "from sklearn import datasets\n",
    "from sklearn.model_selection import train_test_split\n",
    "import numpy as np\n",
    "import matplotlib.pyplot as plt"
   ]
  },
  {
   "cell_type": "code",
   "execution_count": 3,
   "metadata": {},
   "outputs": [],
   "source": [
    "df = datasets.load_boston()\n",
    "\n",
    "X = df.data\n",
    "y = df.target\n",
    "\n",
    "# X_train, y_train, X_test, y_test = train_test_split(X, y, test_size=0.25)\n",
    "n = len(df.data)\n",
    "X_train=np.array(X[:int(0.75*n)])\n",
    "X_test=np.array(X[int(0.75*n):])\n",
    "y_train=np.array(y[:int(0.75*n)])\n",
    "y_test=np.array(y[int(0.75*n):])"
   ]
  },
  {
   "cell_type": "markdown",
   "metadata": {},
   "source": [
    "## Задание 1\n",
    "\n",
    "Как вы уже знаете из лекций, **бустинг** - это метод построения композиций базовых алгоритмов с помощью последовательного добавления к текущей композиции нового алгоритма с некоторым коэффициентом. \n",
    "\n",
    "Градиентный бустинг обучает каждый новый алгоритм так, чтобы он приближал антиградиент ошибки по ответам композиции на обучающей выборке. Аналогично минимизации функций методом градиентного спуска, в градиентном бустинге мы подправляем композицию, изменяя алгоритм в направлении антиградиента ошибки.\n",
    "\n",
    "Воспользуйтесь формулой из лекций, задающей ответы на обучающей выборке, на которые нужно обучать новый алгоритм (фактически это лишь чуть более подробно расписанный градиент от ошибки), и получите частный ее случай, если функция потерь `L` - квадрат отклонения ответа композиции `a(x)` от правильного ответа `y` на данном `x`.\n",
    "\n",
    "Если вы давно не считали производную самостоятельно, вам поможет таблица производных элементарных функций (которую несложно найти в интернете) и правило дифференцирования сложной функции. После дифференцирования квадрата у вас возникнет множитель 2 — т.к. нам все равно предстоит выбирать коэффициент, с которым будет добавлен новый базовый алгоритм, проигноируйте этот множитель при дальнейшем построении алгоритма."
   ]
  },
  {
   "cell_type": "code",
   "execution_count": 10,
   "metadata": {
    "collapsed": true
   },
   "outputs": [],
   "source": [
    "def L_derivative(y, z):\n",
    "    return y - z"
   ]
  },
  {
   "cell_type": "markdown",
   "metadata": {},
   "source": [
    "## Задание 2\n",
    "\n",
    "Заведите массив для объектов `DecisionTreeRegressor` (будем их использовать в качестве базовых алгоритмов) и для вещественных чисел (это будут коэффициенты перед базовыми алгоритмами). \n",
    "\n",
    "В цикле от обучите последовательно 50 решающих деревьев с параметрами `max_depth=5` и `random_state=42` (остальные параметры - по умолчанию). В бустинге зачастую используются сотни и тысячи деревьев, но мы ограничимся 50, чтобы алгоритм работал быстрее, и его было проще отлаживать (т.к. цель задания разобраться, как работает метод). Каждое дерево должно обучаться на одном и том же множестве объектов, но ответы, которые учится прогнозировать дерево, будут меняться в соответствие с полученным в задании 1 правилом. \n",
    "\n",
    "Попробуйте для начала всегда брать коэффициент равным 0.9. Обычно оправдано выбирать коэффициент значительно меньшим - порядка 0.05 или 0.1, но т.к. в нашем учебном примере на стандартном датасете будет всего 50 деревьев, возьмем для начала шаг побольше.\n",
    "\n",
    "В процессе реализации обучения вам потребуется функция, которая будет вычислять прогноз построенной на данный момент композиции деревьев на выборке `X`:\n",
    "\n",
    "```\n",
    "def gbm_predict(X):\n",
    "    return [sum([coeff * algo.predict([x])[0] for algo, coeff in zip(base_algorithms_list, coefficients_list)]) for x in X]\n",
    "(считаем, что base_algorithms_list - список с базовыми алгоритмами, coefficients_list - список с коэффициентами перед алгоритмами)\n",
    "```\n",
    "\n",
    "Эта же функция поможет вам получить прогноз на контрольной выборке и оценить качество работы вашего алгоритма с помощью `mean_squared_error` в `sklearn.metrics`. \n",
    "\n",
    "Возведите результат в степень 0.5, чтобы получить `RMSE`. Полученное значение `RMSE` — **ответ в пункте 2**."
   ]
  },
  {
   "cell_type": "code",
   "execution_count": 6,
   "metadata": {
    "collapsed": true
   },
   "outputs": [],
   "source": [
    "from sklearn.tree import DecisionTreeRegressor\n",
    "from sklearn.metrics import mean_squared_error"
   ]
  },
  {
   "cell_type": "code",
   "execution_count": 7,
   "metadata": {
    "collapsed": true
   },
   "outputs": [],
   "source": [
    "def gbm_predict(X):\n",
    "    return [sum([coeff * algo.predict([x])[0] for algo, coeff in zip(base_algorithms_list, coefficients_list)]) for x in X]\n",
    "\n",
    "def write_answer(ans, task_number):\n",
    "    with open(\"gradient_boosting_answer{}.txt\".format(task_number), \"w\") as fout:\n",
    "        fout.write(str(ans))\n",
    "        "
   ]
  },
  {
   "cell_type": "code",
   "execution_count": 25,
   "metadata": {},
   "outputs": [
    {
     "name": "stdout",
     "output_type": "stream",
     "text": [
      "1: error 4.67\n",
      "2: error 4.90\n",
      "3: error 4.96\n",
      "4: error 5.23\n",
      "5: error 5.16\n",
      "6: error 5.26\n",
      "7: error 5.31\n",
      "8: error 5.50\n",
      "9: error 5.51\n",
      "10: error 5.52\n",
      "11: error 5.51\n",
      "12: error 5.51\n",
      "13: error 5.51\n",
      "14: error 5.45\n",
      "15: error 5.48\n",
      "16: error 5.48\n",
      "17: error 5.46\n",
      "18: error 5.47\n",
      "19: error 5.47\n",
      "20: error 5.48\n",
      "21: error 5.47\n",
      "22: error 5.47\n",
      "23: error 5.48\n",
      "24: error 5.48\n",
      "25: error 5.48\n",
      "26: error 5.48\n",
      "27: error 5.48\n",
      "28: error 5.50\n",
      "29: error 5.48\n",
      "30: error 5.48\n",
      "31: error 5.48\n",
      "32: error 5.48\n",
      "33: error 5.48\n",
      "34: error 5.48\n",
      "35: error 5.48\n",
      "36: error 5.48\n",
      "37: error 5.48\n",
      "38: error 5.48\n",
      "39: error 5.48\n",
      "40: error 5.48\n",
      "41: error 5.48\n",
      "42: error 5.48\n",
      "43: error 5.48\n",
      "44: error 5.48\n",
      "45: error 5.48\n",
      "46: error 5.48\n",
      "47: error 5.48\n",
      "48: error 5.48\n",
      "49: error 5.48\n"
     ]
    }
   ],
   "source": [
    "base_algorithms_list = []\n",
    "coefficients_list = [0.9]\n",
    "\n",
    "DT = DecisionTreeRegressor(max_depth=5, random_state=42)\n",
    "DT.fit(X_train, y_train)\n",
    "base_algorithms_list.append(DT)\n",
    "for i in range(1, 50):\n",
    "    DT = DecisionTreeRegressor(max_depth=5, random_state=42)\n",
    "    DT.fit(X_train, L_derivative(y_train, gbm_predict(X_train)))\n",
    "    base_algorithms_list.append(DT)\n",
    "    coefficients_list.append(0.9)\n",
    "    \n",
    "    print(\"%d: error %.2f\" % (i, np.sqrt(mean_squared_error(y_test, gbm_predict(X_test)))))"
   ]
  },
  {
   "cell_type": "code",
   "execution_count": 28,
   "metadata": {},
   "outputs": [],
   "source": [
    "write_answer(np.sqrt(mean_squared_error(y_test, gbm_predict(X_test))), 1)"
   ]
  },
  {
   "cell_type": "markdown",
   "metadata": {},
   "source": [
    "## Задание 3\n",
    "\n",
    "Вас может также беспокоить, что двигаясь с постоянным шагом, вблизи минимума ошибки ответы на обучающей выборке меняются слишком резко, перескакивая через минимум. \n",
    "\n",
    "Попробуйте уменьшать вес перед каждым алгоритмом с каждой следующей итерацией по формуле `0.9 / (1.0 + i)`, где `i` - номер итерации (от 0 до 49). Используйте качество работы алгоритма как **ответ в пункте 3**. \n",
    "\n",
    "В реальности часто применяется следующая стратегия выбора шага: как только выбран алгоритм, подберем коэффициент перед ним численным методом оптимизации таким образом, чтобы отклонение от правильных ответов было минимальным. Мы не будем предлагать вам реализовать это для выполнения задания, но рекомендуем попробовать разобраться с такой стратегией и реализовать ее при случае для себя."
   ]
  },
  {
   "cell_type": "code",
   "execution_count": 29,
   "metadata": {},
   "outputs": [
    {
     "name": "stdout",
     "output_type": "stream",
     "text": [
      "1: error 4.41\n",
      "2: error 4.39\n",
      "3: error 4.46\n",
      "4: error 4.50\n",
      "5: error 4.52\n",
      "6: error 4.55\n",
      "7: error 4.61\n",
      "8: error 4.63\n",
      "9: error 4.65\n",
      "10: error 4.66\n",
      "11: error 4.67\n",
      "12: error 4.69\n",
      "13: error 4.70\n",
      "14: error 4.71\n",
      "15: error 4.73\n",
      "16: error 4.74\n",
      "17: error 4.74\n",
      "18: error 4.75\n",
      "19: error 4.75\n",
      "20: error 4.76\n",
      "21: error 4.76\n",
      "22: error 4.76\n",
      "23: error 4.76\n",
      "24: error 4.76\n",
      "25: error 4.76\n",
      "26: error 4.76\n",
      "27: error 4.77\n",
      "28: error 4.77\n",
      "29: error 4.78\n",
      "30: error 4.78\n",
      "31: error 4.78\n",
      "32: error 4.79\n",
      "33: error 4.79\n",
      "34: error 4.79\n",
      "35: error 4.79\n",
      "36: error 4.79\n",
      "37: error 4.80\n",
      "38: error 4.80\n",
      "39: error 4.80\n",
      "40: error 4.80\n",
      "41: error 4.80\n",
      "42: error 4.80\n",
      "43: error 4.80\n",
      "44: error 4.80\n",
      "45: error 4.80\n",
      "46: error 4.81\n",
      "47: error 4.81\n",
      "48: error 4.81\n",
      "49: error 4.81\n"
     ]
    }
   ],
   "source": [
    "base_algorithms_list = []\n",
    "coefficients_list = [0.9]\n",
    "\n",
    "DT = DecisionTreeRegressor(max_depth=5, random_state=42)\n",
    "DT.fit(X_train, y_train)\n",
    "base_algorithms_list.append(DT)\n",
    "for i in range(1, 50):\n",
    "    DT = DecisionTreeRegressor(max_depth=5, random_state=42)\n",
    "    DT.fit(X_train, L_derivative(y_train, gbm_predict(X_train)))\n",
    "    base_algorithms_list.append(DT)\n",
    "    coefficients_list.append(0.9/(1.0 + i))\n",
    "    \n",
    "    print(\"%d: error %.2f\" % (i, np.sqrt(mean_squared_error(y_test, gbm_predict(X_test)))))"
   ]
  },
  {
   "cell_type": "code",
   "execution_count": 30,
   "metadata": {
    "collapsed": true
   },
   "outputs": [],
   "source": [
    "write_answer(np.sqrt(mean_squared_error(y_test, gbm_predict(X_test))), 3)"
   ]
  },
  {
   "cell_type": "markdown",
   "metadata": {},
   "source": [
    "## Задание 4\n",
    "\n",
    "Реализованный вами метод - градиентный бустинг над деревьями - очень популярен в машинном обучении. Он представлен как в самой библиотеке `sklearn`, так и в сторонней библиотеке `XGBoost`, которая имеет свой питоновский интерфейс. На практике `XGBoost` работает заметно лучше `GradientBoostingRegressor` из `sklearn`, но для этого задания вы можете использовать любую реализацию. \n",
    "\n",
    "Исследуйте, переобучается ли градиентный бустинг с ростом числа итераций (и подумайте, почему), а также с ростом глубины деревьев. На основе наблюдений выпишите через пробел номера правильных из приведенных ниже утверждений в порядке возрастания номера (это будет **ответ в п.4**):\n",
    "\n",
    "    1. С увеличением числа деревьев, начиная с некоторого момента, качество работы градиентного бустинга не меняется существенно.\n",
    "\n",
    "    2. С увеличением числа деревьев, начиная с некоторого момента, градиентный бустинг начинает переобучаться.\n",
    "\n",
    "    3. С ростом глубины деревьев, начиная с некоторого момента, качество работы градиентного бустинга на тестовой выборке начинает ухудшаться.\n",
    "\n",
    "    4. С ростом глубины деревьев, начиная с некоторого момента, качество работы градиентного бустинга перестает существенно изменяться"
   ]
  },
  {
   "cell_type": "code",
   "execution_count": 31,
   "metadata": {
    "collapsed": true
   },
   "outputs": [],
   "source": [
    "from xgboost import XGBRegressor"
   ]
  },
  {
   "cell_type": "code",
   "execution_count": 52,
   "metadata": {
    "collapsed": true
   },
   "outputs": [],
   "source": [
    "iters = np.arange(10, 1000, 10)\n",
    "loss_scores = []\n",
    "\n",
    "for i in iters:\n",
    "    GBR = XGBRegressor(n_estimators=i)\n",
    "    GBR.fit(X_train, y_train)\n",
    "    \n",
    "    loss_scores.append(np.sqrt(mean_squared_error(y_test, GBR.predict(X_test))))"
   ]
  },
  {
   "cell_type": "code",
   "execution_count": 53,
   "metadata": {},
   "outputs": [
    {
     "data": {
      "image/png": "[encoded data removed]",
      "text/plain": [
       "<matplotlib.figure.Figure at 0x1a12c70cf8>"
      ]
     },
     "metadata": {},
     "output_type": "display_data"
    }
   ],
   "source": [
    "plt.plot(iters, loss_scores)\n",
    "plt.show()"
   ]
  },
  {
   "cell_type": "code",
   "execution_count": 54,
   "metadata": {},
   "outputs": [],
   "source": [
    "depths = np.arange(1, 50, 1)\n",
    "loss_scores = []\n",
    "\n",
    "for depth in depths:\n",
    "    GBR = XGBRegressor(max_depth=depth)\n",
    "    GBR.fit(X_train, y_train)\n",
    "    \n",
    "    loss_scores.append(np.sqrt(mean_squared_error(y_test, GBR.predict(X_test))))"
   ]
  },
  {
   "cell_type": "code",
   "execution_count": 55,
   "metadata": {},
   "outputs": [
    {
     "data": {
      "image/png": "[encoded data removed]",
      "text/plain": [
       "<matplotlib.figure.Figure at 0x1a12a85550>"
      ]
     },
     "metadata": {},
     "output_type": "display_data"
    }
   ],
   "source": [
    "plt.plot(depths, loss_scores)\n",
    "plt.show()"
   ]
  },
  {
   "cell_type": "markdown",
   "metadata": {},
   "source": [
    "## Задание 5\n",
    "\n",
    "Сравните получаемое с помощью градиентного бустинга качество с качеством работы линейной регрессии. \n",
    "\n",
    "Для этого обучите `LinearRegression` из `sklearn.linear_model` (с параметрами по умолчанию) на обучающей выборке и оцените для прогнозов полученного алгоритма на тестовой выборке `RMSE`. Полученное качество - ответ в **пункте 5**. \n",
    "\n",
    "В данном примере качество работы простой модели должно было оказаться хуже, но не стоит забывать, что так бывает не всегда. В заданиях к этому курсу вы еще встретите пример обратной ситуации."
   ]
  },
  {
   "cell_type": "code",
   "execution_count": 4,
   "metadata": {
    "collapsed": true
   },
   "outputs": [],
   "source": [
    "from sklearn.linear_model import LinearRegression"
   ]
  },
  {
   "cell_type": "code",
   "execution_count": 8,
   "metadata": {},
   "outputs": [],
   "source": [
    "LR = LinearRegression()\n",
    "LR.fit(X_train, y_train)\n",
    "LR_score = np.sqrt(mean_squared_error(y_test, LR.predict(X_test)))\n",
    "\n",
    "write_answer(LR_score, 5)"
   ]
  },
  {
   "cell_type": "code",
   "execution_count": null,
   "metadata": {
    "collapsed": true
   },
   "outputs": [],
   "source": []
  }
 ],
 "metadata": {
  "kernelspec": {
   "display_name": "Python 3",
   "language": "python",
   "name": "python3"
  },
  "language_info": {
   "codemirror_mode": {
    "name": "ipython",
    "version": 3
   },
   "file_extension": ".py",
   "mimetype": "text/x-python",
   "name": "python",
   "nbconvert_exporter": "python",
   "pygments_lexer": "ipython3",
   "version": "3.6.1"
  }
 },
 "nbformat": 4,
 "nbformat_minor": 1
}
